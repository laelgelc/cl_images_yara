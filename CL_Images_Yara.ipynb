{
 "cells": [
  {
   "cell_type": "markdown",
   "id": "810d9f10-ec19-4b09-8f90-e983e460b319",
   "metadata": {},
   "source": [
    "<center>\n",
    "<img src=\"https://laelgelcpublic.s3.sa-east-1.amazonaws.com/lael_50_years_narrow_white.png.no_years.400px_96dpi.png\" width=\"300\" alt=\"LAEL 50 years logo\">\n",
    "<h3>APPLIED LINGUISTICS GRADUATE PROGRAMME (LAEL)</h3>\n",
    "</center>\n",
    "<hr>"
   ]
  },
  {
   "cell_type": "markdown",
   "id": "888c2c96-2fc3-4a1a-995b-c388036a2a15",
   "metadata": {},
   "source": [
    "# Images function set - Troubleshooting for Yara\n",
    "The purpose of this document is to register the findings of the troubleshooting process for Yara. The approach consists of reproducing the outcomes on a separate environment and comparing with the ones obtained by Yara."
   ]
  },
  {
   "cell_type": "markdown",
   "id": "df88dfa0-8c88-42bf-8630-958ed9bbc0da",
   "metadata": {},
   "source": [
    "Please refer to the following repository:\n",
    "- [cl_images_yara](https://github.com/laelgelc/cl_images_yara)"
   ]
  },
  {
   "cell_type": "markdown",
   "id": "3fb93a1c-e137-47f8-a54d-0f800b56197a",
   "metadata": {},
   "source": [
    "## Functions 'presample' to 'collecturls'"
   ]
  },
  {
   "cell_type": "markdown",
   "id": "7260d526-e0d6-49c6-a99e-e3e5033b031a",
   "metadata": {},
   "source": [
    "- The same 'urls.txt' that Yara obtained could be reproduced - they are identical"
   ]
  },
  {
   "cell_type": "markdown",
   "id": "35dff80a-0752-4aa7-8b36-93b00472648c",
   "metadata": {},
   "source": [
    "<center>\n",
    "<img src=\"https://laelgelcclimages.s3.sa-east-1.amazonaws.com/Figure-20231118-073801.png\" width=\"800\" alt=\"Figure-20231118-073801.png\">\n",
    "</center>"
   ]
  },
  {
   "cell_type": "markdown",
   "id": "e5b0379b-9299-4758-a1b5-f6feaf021e51",
   "metadata": {},
   "source": [
    "- So far, the 'images_index.txt' that was obtained has a number of lines that matches the index: 040065\n",
    "- It contains more lines than Yara's one, which means that further processing in other functions will remove images that are not suitable such as duplicates and empty files\n",
    "- 50 folders to store the images were created as expected"
   ]
  },
  {
   "cell_type": "markdown",
   "id": "8d119948-bda4-4d29-8f7d-05e3e304ee48",
   "metadata": {},
   "source": [
    "<center>\n",
    "<img src=\"https://laelgelcclimages.s3.sa-east-1.amazonaws.com/Figure-20231118-074532.png\" width=\"800\" alt=\"Figure-20231118-073801.png\">\n",
    "</center>"
   ]
  },
  {
   "cell_type": "markdown",
   "id": "80eff03d-12ef-41a4-9d5d-3ba4d375312d",
   "metadata": {},
   "source": [
    "## Function 'grabimages'"
   ]
  },
  {
   "cell_type": "markdown",
   "id": "c5126d2f-7128-480d-85d3-40b0c9d98c37",
   "metadata": {
    "tags": []
   },
   "source": [
    "- Inspecting the images, there are empty files. They are supposed to be detected and removed from 'images_index.txt'"
   ]
  },
  {
   "cell_type": "markdown",
   "id": "a03327be-60ee-49aa-b2ff-8680018cd730",
   "metadata": {},
   "source": [
    "<center>\n",
    "<img src=\"https://laelgelcclimages.s3.sa-east-1.amazonaws.com/Figure-20231118-082231.png\" width=\"800\" alt=\"Figure-20231118-073801.png\">\n",
    "</center>"
   ]
  },
  {
   "cell_type": "markdown",
   "id": "2b75bcc5-148a-4c44-92b9-dfafa776a89d",
   "metadata": {},
   "source": [
    "- While running 'grabimages' the performance of the server degraded gradually to the point of becoming no longer reachable. Eventually, it had to be rebooted. The image collection stopped at image 032258 after a series of empty files which should not have been empty"
   ]
  },
  {
   "cell_type": "markdown",
   "id": "19d58d39-b277-41ea-86cd-4e676938fb3a",
   "metadata": {},
   "source": [
    "<center>\n",
    "<img src=\"https://laelgelcclimages.s3.sa-east-1.amazonaws.com/Figure-20231119-1022.jpeg\" width=\"800\" alt=\"Figure-20231118-073801.png\">\n",
    "</center>"
   ]
  },
  {
   "cell_type": "markdown",
   "id": "ac23753f-c7cf-4dac-bbae-7ba23d632a9d",
   "metadata": {},
   "source": [
    "- The image 032258.jpg actually exists and could have been collected\n",
    "  - fl:33|t:032258|id:1553193928903508000|d:2022-07-30|u:cicero78713658|i:https://pbs.twimg.com/media/FY4NpX8WAAEh5KM?format=jpg&name=large|f:jpg"
   ]
  },
  {
   "cell_type": "markdown",
   "id": "a07c8814-fae9-40a7-b2d0-1d8bdb7bf0f5",
   "metadata": {},
   "source": [
    "<center>\n",
    "<img src=\"https://laelgelcclimages.s3.sa-east-1.amazonaws.com/Figure-20231119-1033.jpeg\" width=\"300\" alt=\"Figure-20231118-073801.png\">\n",
    "</center>"
   ]
  },
  {
   "cell_type": "markdown",
   "id": "bc99d19f-4f6a-4f25-a5d3-6018a01cd233",
   "metadata": {},
   "source": [
    "- The image 031983.jpg Yara reported as corrupted could be successfully collected this time"
   ]
  },
  {
   "cell_type": "markdown",
   "id": "6d6e89fd-2d33-463b-9957-3c925240470c",
   "metadata": {},
   "source": [
    "<center>\n",
    "<img src=\"https://laelgelcclimages.s3.sa-east-1.amazonaws.com/Figure-20231119-1040.jpg\" width=\"300\" alt=\"Figure-20231118-073801.png\">\n",
    "</center>"
   ]
  },
  {
   "cell_type": "markdown",
   "id": "5b1a38aa-7ff7-4085-9912-7322e2aa5354",
   "metadata": {},
   "source": [
    "- The evidence shows that 'grabimages' or something in its context is not reliable. The function is going to be re-run in an attempt to obtain better results."
   ]
  },
  {
   "cell_type": "markdown",
   "id": "58e86489-d68b-4fa4-b5f6-835b7e619981",
   "metadata": {},
   "source": []
  },
  {
   "cell_type": "markdown",
   "id": "895a7e88-f0d1-4ca7-9d30-960b77eadce3",
   "metadata": {},
   "source": [
    "<center>\n",
    "<img src=\"https://laelgelcclimages.s3.sa-east-1.amazonaws.com/Figure-20231119-163047.png\" width=\"800\" alt=\"Figure-20231118-073801.png\">\n",
    "</center>"
   ]
  },
  {
   "cell_type": "markdown",
   "id": "7cab7ea2-541e-4b5d-9e2b-9fbecf82dc37",
   "metadata": {},
   "source": [
    "- The server became unreachable again and had to be rebooted again. It has been determined that the issue happened after the collection of image 035225.jpg. Images 035226.jpg and 035227.jpg are not truly empty. This time, the 'grabimages' function will be altered in order to collect images from 035226.jpg on\n",
    "  - fl:36|t:035226|id:1586858281166856200|d:2022-10-30|u:myaorthammy|i:https://pbs.twimg.com/media/FgWnMlPXoAEPCFQ?format=jpg&name=large|f:jpg\n",
    "- The process completed apparently successfully but the process as a whole **could not be considered reliable**. Therefore, **the function 'grabimages' was run directly as a shell script without being mediated by a Python programme. This time, the process was completed smoothly and reliably**"
   ]
  },
  {
   "cell_type": "markdown",
   "id": "c95ab03a-5c96-4fb0-a5bf-c4d4fedbd04a",
   "metadata": {},
   "source": [
    "## Function 'removedupes'"
   ]
  },
  {
   "cell_type": "markdown",
   "id": "028e55cc-e1be-43ca-b397-18c2d84f4422",
   "metadata": {},
   "source": [
    "### Determining the empty images"
   ]
  },
  {
   "cell_type": "markdown",
   "id": "13634a3e-5d9b-4bb4-84ea-6fb8cbee1e29",
   "metadata": {},
   "source": [
    "- The empty images were determined by running the following command\n",
    "  - A list of 1954 empty images was obtained"
   ]
  },
  {
   "cell_type": "code",
   "execution_count": null,
   "id": "ed4296f1-daf1-46a9-a159-ef93639bd651",
   "metadata": {},
   "outputs": [],
   "source": [
    "(my_env) ubuntu@ip-172-31-46-151:~/my_env/cl_images$ find images/images -type f -empty > emptyfiles.txt"
   ]
  },
  {
   "cell_type": "markdown",
   "id": "79f2bd76-1a4b-4972-b147-7b2948f3ebb4",
   "metadata": {},
   "source": [
    "- Before running 'removedupes', the file 'images_index.txt' had 40065 lines with the image index matching the number of the corresponding line\n",
    "\n",
    "- After running 'removedupes':\n",
    "  - the function did not find duplicated posts because the auxiliary file 'd' was empty\n",
    "  - all of the empty images were removed\n",
    "  - the file 'images_index.txt' had 38459 lines (the image index no longer matching the number of the corresponding line). Therefore, (40065 - 38459 = 1606) images have been removed. That means that 12 files other than the empty ones were removed - this is the case of images 000463 and 001030. Both of them have an image link in the field 'f'\n",
    "    - fl:01|t:000463|id:1099442009041965000|d:2019-02-23|u:jmb_newage|i:https://pbs.twimg.com/ext_tw_video_thumb/1099395251339444224/pu/img/Wiuwv4JK0jWvPBCm.jpg|f:https://pbs.twimg.com/ext_tw_video_thumb/1099395251339444224/pu/img/Wiuwv4JK0jWvPBCm.jpg\n",
    "    - fl:02|t:001030|id:1121917120416223200|d:2019-04-26|u:mauroba15398952|i:https://pbs.twimg.com/media/D5Gg0EmXsAMmdNe.jpg|f:https://pbs.twimg.com/media/D5Gg0EmXsAMmdNe.jpg"
   ]
  },
  {
   "cell_type": "markdown",
   "id": "9600af0d-a160-43e6-a177-525a17b9ff70",
   "metadata": {},
   "source": [
    "<center>\n",
    "<img src=\"https://laelgelcclimages.s3.sa-east-1.amazonaws.com/Figure-20231120-081956.png\" width=\"800\" alt=\"Figure-20231118-073801.png\">\n",
    "</center>"
   ]
  },
  {
   "cell_type": "markdown",
   "id": "594d86c9-43be-4b5d-b775-5c8ff1aa6736",
   "metadata": {},
   "source": [
    "- The following command was used to create a list of images that 'removedupes' removed, 'images_index_before_after_rogerio_diff.txt'"
   ]
  },
  {
   "cell_type": "code",
   "execution_count": null,
   "id": "14aaa6cf-1d70-4ddd-a2de-6c72eb2bc0a3",
   "metadata": {},
   "outputs": [],
   "source": [
    "(my_env) ubuntu@ip-172-31-46-151:~/my_env/cl_images_yara$ diff images_index_before_dedupe.txt images_index_after_dedupe_rogerio.txt | grep fl: > images_index_before_after_rogerio_diff.txt"
   ]
  },
  {
   "cell_type": "markdown",
   "id": "1133a5bc-fd48-4d91-a34d-efe84fc5e941",
   "metadata": {},
   "source": [
    "- Comparing with the results obtained by Yara, her 'images_index_after_dedupe_yara.txt' contains 38603. That means that she obtained (38603 - 38459 = 144) more images. One possible explanation is that the Twitter users removed a few posts since Yara collected the images"
   ]
  },
  {
   "cell_type": "markdown",
   "id": "803218be-8111-4bd1-a533-d632f8df3b78",
   "metadata": {},
   "source": [
    "## Function 'uploadtobucket'"
   ]
  },
  {
   "cell_type": "markdown",
   "id": "8c5ea559-ac9d-44e1-96c5-6c7d6d5dc64e",
   "metadata": {},
   "source": [
    "- The function completed successfully\n",
    "- The code required a slight adaptation to run over Ubuntu"
   ]
  },
  {
   "cell_type": "code",
   "execution_count": null,
   "id": "99c06c57-942c-4f05-9de5-7b13f7c33a16",
   "metadata": {},
   "outputs": [],
   "source": [
    "(my_env) ubuntu@ip-172-31-46-151:~/my_env/cl_images$ more nohup.out\n",
    "Directory ./images/images uploaded to laelimages/images successfully!\n",
    "(my_env) ubuntu@ip-172-31-46-151:~/my_env/cl_images$ "
   ]
  },
  {
   "cell_type": "markdown",
   "id": "f5df98d9-57cc-4b68-995a-1a24e1115112",
   "metadata": {},
   "source": [
    "## Function 'googlelabels'"
   ]
  },
  {
   "cell_type": "markdown",
   "id": "30f57a3e-5445-47a9-b4a8-681d295ae4cc",
   "metadata": {},
   "source": [
    "### Exception handling"
   ]
  },
  {
   "cell_type": "markdown",
   "id": "398e866b-2916-434f-a6d4-0d05b9f11870",
   "metadata": {
    "tags": []
   },
   "source": [
    "- An exception was raised while processing the image 008136.jpg, located in the row i=7926:\n",
    "\n",
    "---- detect-labels 7923 / 40065 ----\n",
    "\n",
    "---- detect-labels 7924 / 40065 ----\n",
    "\n",
    "---- detect-labels 7925 / 40065 ----\n",
    "\n",
    "---- detect-labels 7926 / 40065 ----\n",
    "\n",
    "Traceback (most recent call last):\n",
    "\n",
    "  File \"/home/ubuntu/my_env/cl_images/climages.py\", line 93, in <module>\n",
    "    \n",
    "    labels = detect_labels(image_uri)\n",
    "    \n",
    "  File \"/home/ubuntu/my_env/cl_images/climages.py\", line 58, in detect_labels\n",
    "    \n",
    "    raise Exception(f'Error: {response.error.message}')\n",
    "    \n",
    "Exception: Error: Internal server error. Failed to process features.\n",
    "\n",
    "- There was nothing wrong with image 008136.jpg\n",
    "- The function 'googlelabels' was suspended due to an exception reported by the Google Vision service. The service experienced an internal error and failed. It means that the error occurred at Google Vision's side\n",
    "- In order to resume the processing from the point it stopped, the server was rebooted just to get it freshly started and the function 'googlelabels' was adjusted as follows:\n",
    "\n",
    "for i in range(7926, last + 1):\n",
    "    \n",
    "    try:\n",
    "    \n",
    "        with open('images/images_index.txt', 'r', encoding='utf8') as f:\n",
    "    \n",
    "            line = next(line for j, line in enumerate(f, start = 1) if j == i)\n",
    "    \n",
    "            folder = line.split('|')[0][3:]\n",
    "    \n",
    "            n = line.split('|')[1][2:]\n",
    "    \n",
    "            id = line.split('|')[2][3:]\n",
    "    \n",
    "            file = line.split('|')[5][2:]\n",
    "    \n",
    "            ext = line.split('|')[6][2:5]\n",
    "    \n",
    "\n",
    "        print(f\"---- detect-labels {i} / {last} ----\")\n",
    "\n",
    "- The processing was resumed successfully"
   ]
  },
  {
   "cell_type": "markdown",
   "id": "18af8395-f0db-40a5-9a94-2f6f9e15196b",
   "metadata": {},
   "source": [
    "#### Takeaways"
   ]
  },
  {
   "cell_type": "markdown",
   "id": "a3c6d71e-f94e-4d13-928f-911b3012508b",
   "metadata": {},
   "source": [
    "- This exception shed light on the logic of the function 'googlelabels'\n",
    "  - The counter variable 'i' holds the row of the file 'images_index.txt'. Since the function 'removedupes' removed a few images, the number of the rows no longer matches the index of the images. This explains the discrepancy between the counter 'i' and the name of the image\n",
    "  - The variable 'last', on the other hand, holds the index of the last row of the file 'images_index.txt'. In our case, it is set to 40065. It means that the processing of labels will try to iterate beyond the quantity of images to be processed because now 'images_index.txt' contains 38459 images. Therefore, when the function 'googlelabels' tries to process the row 38460, it will not find any values and the programme will break\n",
    "- In spite of this, by the time the programme reaches this breaking point, its purpose will have been served. Therefore, we will manage this as an exception and live with the problem"
   ]
  },
  {
   "cell_type": "markdown",
   "id": "1f7fdb9b-c242-4a25-bf0e-c496731713ee",
   "metadata": {},
   "source": []
  },
  {
   "cell_type": "markdown",
   "id": "4e8e9732-1e55-481d-a5b5-f32c9f4170c7",
   "metadata": {},
   "source": [
    "## Lessons learned"
   ]
  },
  {
   "cell_type": "markdown",
   "id": "fb48c4ba-95d5-4b7f-8a4b-2a2e02cc2db8",
   "metadata": {},
   "source": [
    "Yara's project was the first opportunity to employ Jupyter Notebooks to process Corpus Linguistics research data. Here are a few reflections on the lived experience\n",
    "\n",
    "1. The issues faced by Yara were probably due to the limited performance of a personal computer and home broadband access in the face of heavy workloads. When bottlenecks hit a personal computer, files may end up corrupted\n",
    "2. While Jupyter Notebooks are highly didactic, its processing relies on a Python kernel whose performance cannot be compared to a Python interpreter running over a Linux server. Jupyter Notebooks are ideal for testing ideas and prototyping solutions, they may not be so when it comes to dealing with heavy workloads\n",
    "3. Cloud Computing is probably a better solution for GELC's research projects due to following reasons:\n",
    "- The projects pay only for the resources the utilise. There is no need to source and maintain hardware\n",
    "- The computing service is provided by server-grade virtual machines that are dedicated and tuned to the required workload\n",
    "- It provides easy-to-deploy infrastructure to process Big Data workloads"
   ]
  },
  {
   "cell_type": "markdown",
   "id": "0427ecfd-0918-4464-94b0-413ad634fdf4",
   "metadata": {},
   "source": [
    "The following figure shows the monitoring of the server of this project when it was running the 'googlelabels' function. The CPU utilisation remained steady at 10%."
   ]
  },
  {
   "cell_type": "markdown",
   "id": "a69efc24-bc7c-4882-a011-5095dd4ad112",
   "metadata": {},
   "source": [
    "<center>\n",
    "<img src=\"https://laelgelcclimages.s3.sa-east-1.amazonaws.com/Figure-20231120-1623.jpg\" width=\"800\" alt=\"Figure-20231118-073801.png\">\n",
    "</center>"
   ]
  }
 ],
 "metadata": {
  "kernelspec": {
   "display_name": "anaconda-panel-2023.05-py310",
   "language": "python",
   "name": "conda-env-anaconda-panel-2023.05-py310-py"
  },
  "language_info": {
   "codemirror_mode": {
    "name": "ipython",
    "version": 3
   },
   "file_extension": ".py",
   "mimetype": "text/x-python",
   "name": "python",
   "nbconvert_exporter": "python",
   "pygments_lexer": "ipython3",
   "version": "3.11.5"
  }
 },
 "nbformat": 4,
 "nbformat_minor": 5
}
