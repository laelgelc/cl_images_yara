{
 "cells": [
  {
   "cell_type": "markdown",
   "id": "810d9f10-ec19-4b09-8f90-e983e460b319",
   "metadata": {},
   "source": [
    "<center>\n",
    "<img src=\"https://laelgelcpublic.s3.sa-east-1.amazonaws.com/lael_50_years_narrow_white.png.no_years.400px_96dpi.png\" width=\"300\" alt=\"LAEL 50 years logo\">\n",
    "<h3>APPLIED LINGUISTICS GRADUATE PROGRAMME (LAEL)</h3>\n",
    "</center>\n",
    "<hr>"
   ]
  },
  {
   "cell_type": "markdown",
   "id": "888c2c96-2fc3-4a1a-995b-c388036a2a15",
   "metadata": {},
   "source": [
    "# Images function set - Troubleshooting for Yara\n",
    "The purpose of this document is to register the findings of the troubleshooting process for Yara. The approach consists of reproducing the outcomes on a separate environment and comparing with the ones obtained by Yara."
   ]
  },
  {
   "cell_type": "markdown",
   "id": "3fb93a1c-e137-47f8-a54d-0f800b56197a",
   "metadata": {},
   "source": [
    "## Functions 'presample' to 'collecturls'"
   ]
  },
  {
   "cell_type": "markdown",
   "id": "7260d526-e0d6-49c6-a99e-e3e5033b031a",
   "metadata": {},
   "source": [
    "- The same 'urls.txt' that Yara obtained could be reproduced - they are identical"
   ]
  },
  {
   "cell_type": "markdown",
   "id": "35dff80a-0752-4aa7-8b36-93b00472648c",
   "metadata": {},
   "source": [
    "<center>\n",
    "<img src=\"https://laelgelcclimages.s3.sa-east-1.amazonaws.com/Figure-20231118-073801.png\" width=\"800\" alt=\"Figure-20231118-073801.png\">\n",
    "</center>"
   ]
  },
  {
   "cell_type": "markdown",
   "id": "e5b0379b-9299-4758-a1b5-f6feaf021e51",
   "metadata": {},
   "source": [
    "- So far, the 'images_index.txt' that was obtained has a number of lines that matches the index: 040065\n",
    "- It contains more lines than Yara's one, which means that further processing in other functions will remove images that are not suitable such as duplicates and empty files\n",
    "- 50 folders to store the images were created as expected"
   ]
  },
  {
   "cell_type": "markdown",
   "id": "8d119948-bda4-4d29-8f7d-05e3e304ee48",
   "metadata": {},
   "source": [
    "<center>\n",
    "<img src=\"https://laelgelcclimages.s3.sa-east-1.amazonaws.com/Figure-20231118-074532.png\" width=\"800\" alt=\"Figure-20231118-073801.png\">\n",
    "</center>"
   ]
  },
  {
   "cell_type": "markdown",
   "id": "80eff03d-12ef-41a4-9d5d-3ba4d375312d",
   "metadata": {},
   "source": [
    "## Function 'grabimages'"
   ]
  },
  {
   "cell_type": "markdown",
   "id": "c5126d2f-7128-480d-85d3-40b0c9d98c37",
   "metadata": {
    "tags": []
   },
   "source": [
    "- Inspecting the images, there are empty files. They are supposed to be detected and removed from 'images_index.txt'"
   ]
  },
  {
   "cell_type": "markdown",
   "id": "a03327be-60ee-49aa-b2ff-8680018cd730",
   "metadata": {},
   "source": [
    "<center>\n",
    "<img src=\"https://laelgelcclimages.s3.sa-east-1.amazonaws.com/Figure-20231118-082231.png\" width=\"800\" alt=\"Figure-20231118-073801.png\">\n",
    "</center>"
   ]
  },
  {
   "cell_type": "code",
   "execution_count": null,
   "id": "90d72e2f-13b1-4047-9ea5-b156f4ad4a83",
   "metadata": {},
   "outputs": [],
   "source": []
  }
 ],
 "metadata": {
  "kernelspec": {
   "display_name": "anaconda-panel-2023.05-py310",
   "language": "python",
   "name": "conda-env-anaconda-panel-2023.05-py310-py"
  },
  "language_info": {
   "codemirror_mode": {
    "name": "ipython",
    "version": 3
   },
   "file_extension": ".py",
   "mimetype": "text/x-python",
   "name": "python",
   "nbconvert_exporter": "python",
   "pygments_lexer": "ipython3",
   "version": "3.11.5"
  }
 },
 "nbformat": 4,
 "nbformat_minor": 5
}
